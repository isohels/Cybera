{
 "cells": [
  {
   "cell_type": "markdown",
   "metadata": {},
   "source": [
    "### Lets import all the dependencies for scrapping the website"
   ]
  },
  {
   "cell_type": "code",
   "execution_count": 1,
   "metadata": {},
   "outputs": [],
   "source": [
    "import bs4\n",
    "from urllib.request import Request, urlopen\n",
    "from urllib.request import urlopen as uReq\n",
    "from bs4 import BeautifulSoup as soup\n",
    "import pandas as pd"
   ]
  },
  {
   "cell_type": "code",
   "execution_count": 2,
   "metadata": {},
   "outputs": [],
   "source": [
    "#grabbing the url\n",
    "\n",
    "url = 'https://www.cybera.ca/staff/'\n",
    "req = Request(url , headers={'User-Agent': 'Mozilla/5.0'})\n",
    "\n",
    "webpage = urlopen(req).read()\n",
    "\n",
    "pagesoup = soup(webpage,\"lxml\")"
   ]
  },
  {
   "cell_type": "markdown",
   "metadata": {},
   "source": [
    "### Route Address"
   ]
  },
  {
   "cell_type": "code",
   "execution_count": 3,
   "metadata": {},
   "outputs": [
    {
     "name": "stdout",
     "output_type": "stream",
     "text": [
      "Staff - Cybera\n"
     ]
    }
   ],
   "source": [
    "company_route_name = pagesoup.title.text\n",
    "print(company_route_name)"
   ]
  },
  {
   "cell_type": "markdown",
   "metadata": {},
   "source": [
    "### Employee Name"
   ]
  },
  {
   "cell_type": "code",
   "execution_count": 4,
   "metadata": {},
   "outputs": [
    {
     "name": "stdout",
     "output_type": "stream",
     "text": [
      "['Barb Carra ', 'Barton Satchwill ', 'Karim Teja ', 'Meagan Hampel ', 'Mulugeta Yirba ', 'Samir Rana ', 'Zafar Yousufi ', 'Joe Topjian ', 'Ben Leavitt ', 'Logan Thies ', 'Micheal Jones ', 'Regi Caldez ', 'Shawn Ayotte ', 'Alecia Vogel ', 'Alex Tennant ', 'Andrew Klaus ', 'Cameron Mann ', 'David Hay ', 'Laura Gutierrez Funderburk ', 'Preethi Kumar ', 'Rajan Patel ', 'Tatiana Meleshko ', 'Vuk Radovic ', 'May Lynn Lee ', 'Badri Venkataraman ', 'Byron Chu ', 'Catherine Farr ', 'Valentina Corradi ', 'Mary Friedrich ', 'Deb Charnuski ', 'Harold Berry ', 'Nathan Ragonese ', 'Casey Knoll ', 'Imran Mohiuddin ', 'Laura Hutchinson ', 'Caroline Felsmann ', 'Alyshia Auston ', 'Amyn Ramzan ', 'Frances Kordov ', 'Jenna Robottom ']\n"
     ]
    }
   ],
   "source": [
    "description = pagesoup.find_all('div',class_=\"abcfslItemCntrLst abcfslPadBMB30 abcfClrFix\")\n",
    "\n",
    "\n",
    "Names = []\n",
    "for employee_description in description:\n",
    "    employee_names = (employee_description.h3.text)\n",
    "    Names.append(employee_names)\n",
    "    \n",
    "print(Names)"
   ]
  },
  {
   "cell_type": "code",
   "execution_count": 5,
   "metadata": {},
   "outputs": [],
   "source": [
    "emp_names = pd.DataFrame(Names,columns =['Names'])"
   ]
  },
  {
   "cell_type": "code",
   "execution_count": 6,
   "metadata": {},
   "outputs": [
    {
     "data": {
      "text/html": [
       "<div>\n",
       "<style scoped>\n",
       "    .dataframe tbody tr th:only-of-type {\n",
       "        vertical-align: middle;\n",
       "    }\n",
       "\n",
       "    .dataframe tbody tr th {\n",
       "        vertical-align: top;\n",
       "    }\n",
       "\n",
       "    .dataframe thead th {\n",
       "        text-align: right;\n",
       "    }\n",
       "</style>\n",
       "<table border=\"1\" class=\"dataframe\">\n",
       "  <thead>\n",
       "    <tr style=\"text-align: right;\">\n",
       "      <th></th>\n",
       "      <th>Names</th>\n",
       "    </tr>\n",
       "  </thead>\n",
       "  <tbody>\n",
       "    <tr>\n",
       "      <th>0</th>\n",
       "      <td>Barb Carra</td>\n",
       "    </tr>\n",
       "    <tr>\n",
       "      <th>1</th>\n",
       "      <td>Barton Satchwill</td>\n",
       "    </tr>\n",
       "    <tr>\n",
       "      <th>2</th>\n",
       "      <td>Karim Teja</td>\n",
       "    </tr>\n",
       "    <tr>\n",
       "      <th>3</th>\n",
       "      <td>Meagan Hampel</td>\n",
       "    </tr>\n",
       "    <tr>\n",
       "      <th>4</th>\n",
       "      <td>Mulugeta Yirba</td>\n",
       "    </tr>\n",
       "  </tbody>\n",
       "</table>\n",
       "</div>"
      ],
      "text/plain": [
       "               Names\n",
       "0        Barb Carra \n",
       "1  Barton Satchwill \n",
       "2        Karim Teja \n",
       "3     Meagan Hampel \n",
       "4    Mulugeta Yirba "
      ]
     },
     "execution_count": 6,
     "metadata": {},
     "output_type": "execute_result"
    }
   ],
   "source": [
    "emp_names.head()"
   ]
  },
  {
   "cell_type": "markdown",
   "metadata": {},
   "source": [
    "### Employee Designation"
   ]
  },
  {
   "cell_type": "code",
   "execution_count": 7,
   "metadata": {},
   "outputs": [
    {
     "name": "stdout",
     "output_type": "stream",
     "text": [
      "['President and CEO', 'Vice President, Technology', 'CFO', 'Vice President, External Relations', 'Network Engineer', 'Senior Network Engineer', 'Network Engineer', 'Operations Manager', 'Systems Administrator', 'Systems Administrator', 'Senior System Administrator', 'Junior Systems Administrator', 'Senior Administrator', 'Developer', 'Data Scientist', 'Security Specialist', 'Software Developer', 'Callysto Ambassador', 'Data Science Intern, Callysto', 'Developer', 'Data Scientist', 'Data Scientist', 'Developer', 'Program Manager', 'Project Manager', 'Project Manager / Data Scientist', 'Project Manager', 'Project Manager', 'ShareIT Manager', 'Project Lead - ShareIT', 'ShareIT Procurement Lead', 'Shared Procurement Program Administrator', 'Communications Specialist', 'Policy Analyst', 'Communications Specialist', 'Finance Manager', 'Human Resources Specialist', 'Accountant', 'Executive Assistant / Office Manager', 'Budget Specialist (On Maternity Leave)']\n"
     ]
    }
   ],
   "source": [
    "Role = []\n",
    "\n",
    "for designation in description:\n",
    "        employee_designation = designation.find('div',class_ = 'abcfslF24_6 TF2')\n",
    "        employee_designation = (employee_designation.text)\n",
    "        (Role.append(employee_designation))\n",
    "print(Role)"
   ]
  },
  {
   "cell_type": "code",
   "execution_count": 8,
   "metadata": {},
   "outputs": [],
   "source": [
    "emp_roles = pd.DataFrame(Role,columns =['Role'])"
   ]
  },
  {
   "cell_type": "code",
   "execution_count": 9,
   "metadata": {},
   "outputs": [
    {
     "data": {
      "text/html": [
       "<div>\n",
       "<style scoped>\n",
       "    .dataframe tbody tr th:only-of-type {\n",
       "        vertical-align: middle;\n",
       "    }\n",
       "\n",
       "    .dataframe tbody tr th {\n",
       "        vertical-align: top;\n",
       "    }\n",
       "\n",
       "    .dataframe thead th {\n",
       "        text-align: right;\n",
       "    }\n",
       "</style>\n",
       "<table border=\"1\" class=\"dataframe\">\n",
       "  <thead>\n",
       "    <tr style=\"text-align: right;\">\n",
       "      <th></th>\n",
       "      <th>Role</th>\n",
       "    </tr>\n",
       "  </thead>\n",
       "  <tbody>\n",
       "    <tr>\n",
       "      <th>0</th>\n",
       "      <td>President and CEO</td>\n",
       "    </tr>\n",
       "    <tr>\n",
       "      <th>1</th>\n",
       "      <td>Vice President, Technology</td>\n",
       "    </tr>\n",
       "    <tr>\n",
       "      <th>2</th>\n",
       "      <td>CFO</td>\n",
       "    </tr>\n",
       "    <tr>\n",
       "      <th>3</th>\n",
       "      <td>Vice President, External Relations</td>\n",
       "    </tr>\n",
       "    <tr>\n",
       "      <th>4</th>\n",
       "      <td>Network Engineer</td>\n",
       "    </tr>\n",
       "  </tbody>\n",
       "</table>\n",
       "</div>"
      ],
      "text/plain": [
       "                                 Role\n",
       "0                   President and CEO\n",
       "1          Vice President, Technology\n",
       "2                                 CFO\n",
       "3  Vice President, External Relations\n",
       "4                    Network Engineer"
      ]
     },
     "execution_count": 9,
     "metadata": {},
     "output_type": "execute_result"
    }
   ],
   "source": [
    "emp_roles.head()"
   ]
  },
  {
   "cell_type": "markdown",
   "metadata": {},
   "source": [
    "### Employee Bio"
   ]
  },
  {
   "cell_type": "code",
   "execution_count": 10,
   "metadata": {},
   "outputs": [],
   "source": [
    "Overview = pagesoup.find_all('div',class_ = 'abcfslTxtCntrLst abcfslPadLPc5')\n",
    "\n",
    "Bio = []\n",
    "\n",
    "for bios in Overview:\n",
    "    bio = bios.find('div',class_= 'abcfslMT10 abcfslF20 PTF6')\n",
    "    bio = bio.text\n",
    "    Bio.append(bio)\n",
    "\n"
   ]
  },
  {
   "cell_type": "code",
   "execution_count": 11,
   "metadata": {},
   "outputs": [],
   "source": [
    "emp_bio = pd.DataFrame(Bio,columns =['Bio'])"
   ]
  },
  {
   "cell_type": "code",
   "execution_count": 12,
   "metadata": {},
   "outputs": [
    {
     "data": {
      "text/html": [
       "<div>\n",
       "<style scoped>\n",
       "    .dataframe tbody tr th:only-of-type {\n",
       "        vertical-align: middle;\n",
       "    }\n",
       "\n",
       "    .dataframe tbody tr th {\n",
       "        vertical-align: top;\n",
       "    }\n",
       "\n",
       "    .dataframe thead th {\n",
       "        text-align: right;\n",
       "    }\n",
       "</style>\n",
       "<table border=\"1\" class=\"dataframe\">\n",
       "  <thead>\n",
       "    <tr style=\"text-align: right;\">\n",
       "      <th></th>\n",
       "      <th>Bio</th>\n",
       "    </tr>\n",
       "  </thead>\n",
       "  <tbody>\n",
       "    <tr>\n",
       "      <th>0</th>\n",
       "      <td>Barb earned her Master's of Science at the Uni...</td>\n",
       "    </tr>\n",
       "    <tr>\n",
       "      <th>1</th>\n",
       "      <td>Barton has devoted his career to developing sy...</td>\n",
       "    </tr>\n",
       "    <tr>\n",
       "      <th>2</th>\n",
       "      <td>Prior to joining Cybera, Karim was CFO of one ...</td>\n",
       "    </tr>\n",
       "    <tr>\n",
       "      <th>3</th>\n",
       "      <td>Meagan has a journalism degree from Carleton U...</td>\n",
       "    </tr>\n",
       "    <tr>\n",
       "      <th>4</th>\n",
       "      <td>Mulugeta holds a MEng in Internetworking from ...</td>\n",
       "    </tr>\n",
       "  </tbody>\n",
       "</table>\n",
       "</div>"
      ],
      "text/plain": [
       "                                                 Bio\n",
       "0  Barb earned her Master's of Science at the Uni...\n",
       "1  Barton has devoted his career to developing sy...\n",
       "2  Prior to joining Cybera, Karim was CFO of one ...\n",
       "3  Meagan has a journalism degree from Carleton U...\n",
       "4  Mulugeta holds a MEng in Internetworking from ..."
      ]
     },
     "execution_count": 12,
     "metadata": {},
     "output_type": "execute_result"
    }
   ],
   "source": [
    "emp_bio.head()"
   ]
  },
  {
   "cell_type": "markdown",
   "metadata": {},
   "source": [
    "### Create a freshly brewed dataframe out of that scrapped data named Cybera\n",
    " - Concate all the dataframes on column"
   ]
  },
  {
   "cell_type": "code",
   "execution_count": 13,
   "metadata": {},
   "outputs": [],
   "source": [
    "Cybera = pd.concat([emp_names,emp_roles,emp_bio],axis=1)"
   ]
  },
  {
   "cell_type": "markdown",
   "metadata": {},
   "source": [
    "### Sweet now we are almost done."
   ]
  },
  {
   "cell_type": "code",
   "execution_count": 14,
   "metadata": {},
   "outputs": [
    {
     "data": {
      "text/html": [
       "<div>\n",
       "<style scoped>\n",
       "    .dataframe tbody tr th:only-of-type {\n",
       "        vertical-align: middle;\n",
       "    }\n",
       "\n",
       "    .dataframe tbody tr th {\n",
       "        vertical-align: top;\n",
       "    }\n",
       "\n",
       "    .dataframe thead th {\n",
       "        text-align: right;\n",
       "    }\n",
       "</style>\n",
       "<table border=\"1\" class=\"dataframe\">\n",
       "  <thead>\n",
       "    <tr style=\"text-align: right;\">\n",
       "      <th></th>\n",
       "      <th>Names</th>\n",
       "      <th>Role</th>\n",
       "      <th>Bio</th>\n",
       "    </tr>\n",
       "  </thead>\n",
       "  <tbody>\n",
       "    <tr>\n",
       "      <th>0</th>\n",
       "      <td>Barb Carra</td>\n",
       "      <td>President and CEO</td>\n",
       "      <td>Barb earned her Master's of Science at the Uni...</td>\n",
       "    </tr>\n",
       "    <tr>\n",
       "      <th>1</th>\n",
       "      <td>Barton Satchwill</td>\n",
       "      <td>Vice President, Technology</td>\n",
       "      <td>Barton has devoted his career to developing sy...</td>\n",
       "    </tr>\n",
       "    <tr>\n",
       "      <th>2</th>\n",
       "      <td>Karim Teja</td>\n",
       "      <td>CFO</td>\n",
       "      <td>Prior to joining Cybera, Karim was CFO of one ...</td>\n",
       "    </tr>\n",
       "    <tr>\n",
       "      <th>3</th>\n",
       "      <td>Meagan Hampel</td>\n",
       "      <td>Vice President, External Relations</td>\n",
       "      <td>Meagan has a journalism degree from Carleton U...</td>\n",
       "    </tr>\n",
       "    <tr>\n",
       "      <th>4</th>\n",
       "      <td>Mulugeta Yirba</td>\n",
       "      <td>Network Engineer</td>\n",
       "      <td>Mulugeta holds a MEng in Internetworking from ...</td>\n",
       "    </tr>\n",
       "  </tbody>\n",
       "</table>\n",
       "</div>"
      ],
      "text/plain": [
       "               Names                                Role  \\\n",
       "0        Barb Carra                    President and CEO   \n",
       "1  Barton Satchwill           Vice President, Technology   \n",
       "2        Karim Teja                                  CFO   \n",
       "3     Meagan Hampel   Vice President, External Relations   \n",
       "4    Mulugeta Yirba                     Network Engineer   \n",
       "\n",
       "                                                 Bio  \n",
       "0  Barb earned her Master's of Science at the Uni...  \n",
       "1  Barton has devoted his career to developing sy...  \n",
       "2  Prior to joining Cybera, Karim was CFO of one ...  \n",
       "3  Meagan has a journalism degree from Carleton U...  \n",
       "4  Mulugeta holds a MEng in Internetworking from ...  "
      ]
     },
     "execution_count": 14,
     "metadata": {},
     "output_type": "execute_result"
    }
   ],
   "source": [
    "Cybera.head()"
   ]
  },
  {
   "cell_type": "code",
   "execution_count": 15,
   "metadata": {},
   "outputs": [],
   "source": [
    "Cybera.to_csv(\"cybera.csv\")"
   ]
  },
  {
   "cell_type": "markdown",
   "metadata": {},
   "source": [
    "### Now I'm going to find my interviewers\n",
    " - Using the Email address and lets see if they exists\n",
    " - Voila i found all of you SIR"
   ]
  },
  {
   "cell_type": "code",
   "execution_count": 18,
   "metadata": {},
   "outputs": [
    {
     "data": {
      "text/html": [
       "<div>\n",
       "<style scoped>\n",
       "    .dataframe tbody tr th:only-of-type {\n",
       "        vertical-align: middle;\n",
       "    }\n",
       "\n",
       "    .dataframe tbody tr th {\n",
       "        vertical-align: top;\n",
       "    }\n",
       "\n",
       "    .dataframe thead th {\n",
       "        text-align: right;\n",
       "    }\n",
       "</style>\n",
       "<table border=\"1\" class=\"dataframe\">\n",
       "  <thead>\n",
       "    <tr style=\"text-align: right;\">\n",
       "      <th></th>\n",
       "      <th>Names</th>\n",
       "      <th>Role</th>\n",
       "      <th>Bio</th>\n",
       "    </tr>\n",
       "  </thead>\n",
       "  <tbody>\n",
       "    <tr>\n",
       "      <th>14</th>\n",
       "      <td>Alex Tennant</td>\n",
       "      <td>Data Scientist</td>\n",
       "      <td>Alex used to work in a lab where he helped ope...</td>\n",
       "    </tr>\n",
       "    <tr>\n",
       "      <th>20</th>\n",
       "      <td>Rajan Patel</td>\n",
       "      <td>Data Scientist</td>\n",
       "      <td>Rajan joined Cybera after completing a postdoc...</td>\n",
       "    </tr>\n",
       "    <tr>\n",
       "      <th>24</th>\n",
       "      <td>Badri Venkataraman</td>\n",
       "      <td>Project Manager</td>\n",
       "      <td>Badri holds a MBA from the University of Alber...</td>\n",
       "    </tr>\n",
       "    <tr>\n",
       "      <th>25</th>\n",
       "      <td>Byron Chu</td>\n",
       "      <td>Project Manager / Data Scientist</td>\n",
       "      <td>Byron has a PhD in biochemistry, and is a cert...</td>\n",
       "    </tr>\n",
       "  </tbody>\n",
       "</table>\n",
       "</div>"
      ],
      "text/plain": [
       "                  Names                              Role  \\\n",
       "14        Alex Tennant                     Data Scientist   \n",
       "20         Rajan Patel                     Data Scientist   \n",
       "24  Badri Venkataraman                    Project Manager   \n",
       "25           Byron Chu   Project Manager / Data Scientist   \n",
       "\n",
       "                                                  Bio  \n",
       "14  Alex used to work in a lab where he helped ope...  \n",
       "20  Rajan joined Cybera after completing a postdoc...  \n",
       "24  Badri holds a MBA from the University of Alber...  \n",
       "25  Byron has a PhD in biochemistry, and is a cert...  "
      ]
     },
     "execution_count": 18,
     "metadata": {},
     "output_type": "execute_result"
    }
   ],
   "source": [
    "myinterviewers = [\"Rajan Patel\",\"Byron Chu\", \"Badri Venkataraman\", \"Alex Tennant\"]\n",
    "  \n",
    "regstr = '|'.join(myinterviewers)\n",
    "Cybera[Cybera['Names'].str.contains(regstr)]"
   ]
  },
  {
   "cell_type": "code",
   "execution_count": 19,
   "metadata": {},
   "outputs": [],
   "source": [
    "interviewer_df = Cybera[Cybera['Names'].str.contains(regstr)]"
   ]
  },
  {
   "cell_type": "markdown",
   "metadata": {},
   "source": [
    "### So we will start with Alex sir."
   ]
  },
  {
   "cell_type": "code",
   "execution_count": 20,
   "metadata": {},
   "outputs": [
    {
     "data": {
      "text/plain": [
       "'Alex used to work in a lab where he helped operate, break, fix and maintain two heavy element mass spectrometers, \"while also independently performing quantum chemical simulations to help discover how proteins in the body transport and redistribute metal isotopes in relation to disease!\" He now gets to play with a wide variety of data, and teach others how to become data scientists. If he\\'s not at his desk, you will find him eating greasy food, climbing, or hiking in the mountains. His proudest achievement: “I once ate a burrito so fast, I had time to eat a second burrito.”'"
      ]
     },
     "execution_count": 20,
     "metadata": {},
     "output_type": "execute_result"
    }
   ],
   "source": [
    "interviewer_df.iloc[0,2]"
   ]
  },
  {
   "cell_type": "markdown",
   "metadata": {},
   "source": [
    "### Next we have Rajan sir."
   ]
  },
  {
   "cell_type": "code",
   "execution_count": 21,
   "metadata": {},
   "outputs": [
    {
     "data": {
      "text/plain": [
       "'Rajan joined Cybera after completing a postdoctoral fellowship at the University of Alberta. A typical day in the office sees him working on different datasets, creating visualizations, identifying interesting trends/insights, and discussing new tools, technologies and approaches to data science. He enjoys working with the “brilliant minds” at Cybera. The one place he would like to visit is the Himalayan mountains, having read so much about them.'"
      ]
     },
     "execution_count": 21,
     "metadata": {},
     "output_type": "execute_result"
    }
   ],
   "source": [
    "interviewer_df.iloc[1,2]"
   ]
  },
  {
   "cell_type": "markdown",
   "metadata": {},
   "source": [
    "### Lets get some info about Badri sir."
   ]
  },
  {
   "cell_type": "code",
   "execution_count": 22,
   "metadata": {},
   "outputs": [
    {
     "data": {
      "text/plain": [
       "'Badri holds a MBA from the University of Alberta, and previously worked as a Project Support Manager at a management consulting firm. His achievements there included running data and financial analysis for a First Nations management firm that was looking to build a gas station in Alberta. He enjoys the open and transparent culture at Cybera. Thre three things he could not live without are “food, music and my dog Simba.”'"
      ]
     },
     "execution_count": 22,
     "metadata": {},
     "output_type": "execute_result"
    }
   ],
   "source": [
    "interviewer_df.iloc[2,2]"
   ]
  },
  {
   "cell_type": "markdown",
   "metadata": {},
   "source": [
    "### Finally we have Byron sir."
   ]
  },
  {
   "cell_type": "code",
   "execution_count": 23,
   "metadata": {},
   "outputs": [
    {
     "data": {
      "text/plain": [
       "\"Byron has a PhD in biochemistry, and is a certified project manager. In his current role, as well as project managing, he also works with data, and delivers technology training to Albertans (and Canadians) of all ages. His proudest achievement at Cybera (so far) has been working with Callysto, and introducing new technologies and problem-solving approaches to grades 5-12 teachers and students. If he's not at his desk, you will find him running or spending time with his family.\""
      ]
     },
     "execution_count": 23,
     "metadata": {},
     "output_type": "execute_result"
    }
   ],
   "source": [
    "interviewer_df.iloc[3,2]"
   ]
  },
  {
   "cell_type": "markdown",
   "metadata": {},
   "source": [
    "### Thanks for your time and consideration, \n",
    "### Looking forward to hear from you guys.\n"
   ]
  },
  {
   "cell_type": "markdown",
   "metadata": {},
   "source": [
    " - Spent 55 mins preparing this, alternatively we can go on <a>https://www.cybera.ca/staff/</a> and search for any employee"
   ]
  },
  {
   "cell_type": "markdown",
   "metadata": {},
   "source": [
    "# So when I'm starting !!!"
   ]
  }
 ],
 "metadata": {
  "kernelspec": {
   "display_name": "Python 3",
   "language": "python",
   "name": "python3"
  },
  "language_info": {
   "codemirror_mode": {
    "name": "ipython",
    "version": 3
   },
   "file_extension": ".py",
   "mimetype": "text/x-python",
   "name": "python",
   "nbconvert_exporter": "python",
   "pygments_lexer": "ipython3",
   "version": "3.7.6"
  }
 },
 "nbformat": 4,
 "nbformat_minor": 4
}
